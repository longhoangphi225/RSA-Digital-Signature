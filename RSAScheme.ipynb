{
  "nbformat": 4,
  "nbformat_minor": 0,
  "metadata": {
    "colab": {
      "name": "Mật Mã.ipynb",
      "provenance": [],
      "collapsed_sections": []
    },
    "kernelspec": {
      "name": "python3",
      "display_name": "Python 3"
    },
    "language_info": {
      "name": "python"
    }
  },
  "cells": [
    {
      "cell_type": "code",
      "metadata": {
        "id": "wmSjyObW5NeZ"
      },
      "source": [
        "import random\n",
        "import time\n",
        "import math\n",
        "from hashlib import sha256\n",
        "\n",
        "\n",
        "def coprime(a, b):\n",
        "    while b != 0:\n",
        "        a, b = b, a % b\n",
        "    return a\n",
        "    \n",
        "    \n",
        "def extended_gcd(a, b):\n",
        "    if a == 0 :  \n",
        "        return b, 0, 1\n",
        "             \n",
        "    gcd,x1,y1 = extended_gcd(b%a, a) \n",
        "     \n",
        "    x = y1 - (b//a) * x1 \n",
        "    y = x1 \n",
        "     \n",
        "    return gcd,x,y\n",
        "\n",
        "#Thuật toán Euclid mở rộng  \n",
        "def modinv(a, m):\n",
        "\tg, x, y = extended_gcd(a, m)\n",
        "\tif g != 1:\n",
        "\t\traise Exception('Nghịch đảo mod không tồn tại')\n",
        "\treturn x % m    \n",
        "\n",
        "        \n",
        "def is_prime(num):\n",
        "    if num == 2:\n",
        "        return True\n",
        "    if num < 2 or num % 2 == 0:\n",
        "        return False\n",
        "    for n in range(3, int(num**0.5)+2, 2):\n",
        "        if num % n == 0:\n",
        "            return False\n",
        "    return True\n",
        "    \n",
        "def hashFunction(message):\n",
        "  hashed = sha256(message.encode(\"UTF-8\")).hexdigest()\n",
        "  return hashed"
      ],
      "execution_count": null,
      "outputs": []
    },
    {
      "cell_type": "markdown",
      "metadata": {
        "id": "BMjzxm76B5Xk"
      },
      "source": [
        "# **Tạo khóa**: \n",
        "Hãy giúp Tâm sinh khóa để tạo chữ ký số."
      ]
    },
    {
      "cell_type": "code",
      "metadata": {
        "id": "OQC0lfBEB4wf"
      },
      "source": [
        "def generate_keypair(p, q):\n",
        "    if not (is_prime(p) and is_prime(q)):\n",
        "        raise ValueError('Cả 2 số p và q đều phải là số nguyên tố.')\n",
        "    elif p == q:\n",
        "        raise ValueError('2 số p và q phải khác nhau')\n",
        "\n",
        "    N = p * q\n",
        "    phi = (p-1) * (q-1)\n",
        "\n",
        "    #Chọn số nguyên e sao cho e and phi(n) là 2 số nguyên tố cùng nhau\n",
        "    e = random.randrange(1, phi)\n",
        "    g = coprime(e, phi)\n",
        "    while g != 1:\n",
        "        e = random.randrange(1, phi)\n",
        "        g = coprime(e, phi)\n",
        "\n",
        "    #Sử dụng thuật toán Euclid mở rộng tìm d để tạo khóa Private\n",
        "    d = modinv(e, phi)\n",
        "\n",
        "    #Return khóa public và khóa Private\n",
        "    return ((N, e), (N, d))"
      ],
      "execution_count": null,
      "outputs": []
    },
    {
      "cell_type": "code",
      "metadata": {
        "colab": {
          "base_uri": "https://localhost:8080/"
        },
        "id": "LQ-eYV4qcvA4",
        "outputId": "db98746d-fb43-4468-a0de-08d0be26abe1"
      },
      "source": [
        "p = int(input(\"Hãy nhập một số nguyên tố (17, 19, 23, v.vv...): \"))\n",
        "q = int(input(\"Hãy nhập một số nguyên tố khác (Không phải số đầu tiên): \"))   \n",
        "\n",
        "print()\n",
        "print(\"Bắt đầu tạo khóa Public và Private . . .\")\n",
        "\n",
        "public, private = generate_keypair(p, q)\n",
        "print(\"Khóa Public là: \", public ,\"\\nKhóa Private là: \", private)"
      ],
      "execution_count": null,
      "outputs": [
        {
          "output_type": "stream",
          "text": [
            "Hãy nhập một số nguyên tố (17, 19, 23, v.vv...): 17\n",
            "Hãy nhập một số nguyên tố khác (Không phải số đầu tiên): 23\n",
            "\n",
            "Bắt đầu tạo khóa Public và Private . . .\n",
            "Khóa Public là:  (391, 179) \n",
            "Khóa Private là:  (391, 59)\n"
          ],
          "name": "stdout"
        }
      ]
    },
    {
      "cell_type": "markdown",
      "metadata": {
        "id": "OSroQEF2d5tu"
      },
      "source": [
        "# **Tạo chữ kí số:** \n",
        "Hãy mã hóa và tạo chữ ký số với nội dung tin nhắn Tâm gửi \"Lớp Toán tin K63\"."
      ]
    },
    {
      "cell_type": "code",
      "metadata": {
        "id": "bzRwrrO9dW15"
      },
      "source": [
        "def encrypt(privatek, mabam_h):\n",
        "    N, key = privatek\n",
        "\n",
        "    #Chuyển đổi từng chữ cái trong bản rõ thành các số dựa trên bảng mã Unicode\n",
        "    #và mã hóa bằng công thức s =  h ^ d mod N\n",
        "            \n",
        "    numberRepr = [ord(char) for char in mabam_h]\n",
        "    print(\"Biểu diễn số của tin nhắn đã băm qua bản mã Unicode trước khi mã hóa: \")\n",
        "    print(numberRepr)\n",
        "    chukyso_s = [pow(ord(char),key,N) for char in mabam_h]\n",
        "    \n",
        "    #Return the array of bytes\n",
        "    return chukyso_s"
      ],
      "execution_count": null,
      "outputs": []
    },
    {
      "cell_type": "code",
      "metadata": {
        "colab": {
          "base_uri": "https://localhost:8080/"
        },
        "id": "AnpMh74Nftf6",
        "outputId": "c75c5a1a-1fa5-40cb-b44c-cd6600cc7c85"
      },
      "source": [
        "message = 'Lớp Toán tin K63'\n",
        "print(\"Tin nhắn cần gửi: \", message)\n",
        "print()\n",
        "print(\"Bắt đầu mã hóa tin nhắn với khóa bí mật \", private ,\" . . .\")\n",
        "mabam_h = hashFunction(message)\n",
        "print(\"Tin nhắn sau được băm:\", mabam_h)\n",
        "chukyso_s = encrypt(private, mabam_h)\n",
        "print(\"Chữ ký số sau khi đã được mã hóa bằng công thức s =  h ^ {} mod {}:\".format(private[1], private[0]))\n",
        "print(chukyso_s)"
      ],
      "execution_count": null,
      "outputs": [
        {
          "output_type": "stream",
          "text": [
            "Tin nhắn cần gửi:  Lớp Toán tin K63\n",
            "\n",
            "Bắt đầu mã hóa tin nhắn với khóa bí mật  (391, 59)  . . .\n",
            "Tin nhắn sau được băm: 3c9433fb90d96c57d20d11654ee30053fca314f1b58469e2c5034ef45f35acdf\n",
            "Biểu diễn số của tin nhắn đã băm qua bản mã Unicode trước khi mã hóa: \n",
            "[51, 99, 57, 52, 51, 51, 102, 98, 57, 48, 100, 57, 54, 99, 53, 55, 100, 50, 48, 100, 49, 49, 54, 53, 52, 101, 101, 51, 48, 48, 53, 51, 102, 99, 97, 51, 49, 52, 102, 49, 98, 53, 56, 52, 54, 57, 101, 50, 99, 53, 48, 51, 52, 101, 102, 52, 53, 102, 51, 53, 97, 99, 100, 102]\n",
            "Chữ ký số sau khi đã được mã hóa bằng công thức s =  h ^ 59 mod 391:\n",
            "[272, 129, 56, 307, 272, 272, 51, 123, 56, 384, 94, 56, 347, 129, 382, 98, 94, 118, 384, 94, 196, 196, 347, 382, 307, 305, 305, 272, 384, 384, 382, 272, 51, 129, 295, 272, 196, 307, 51, 196, 123, 382, 28, 307, 347, 56, 305, 118, 129, 382, 384, 272, 307, 305, 51, 307, 382, 51, 272, 382, 295, 129, 94, 51]\n"
          ],
          "name": "stdout"
        }
      ]
    },
    {
      "cell_type": "markdown",
      "metadata": {
        "id": "izcqI2HEmAO0"
      },
      "source": [
        "# **Kiểm tra chữ ký, xác thực tin nhắn:**\n",
        "Sau khi gửi đi tin nhắn, giả sử Hiếu sẽ nhận được tin nhắn là \"Lớp Toán tin K64\" và chữ ký số s đi kèm. Hãy xác thực tin nhắn đó có phải đúng là Tâm gửi hay không?"
      ]
    },
    {
      "cell_type": "code",
      "metadata": {
        "id": "vOGC--gYiDis"
      },
      "source": [
        "def decrypt(publick, received_sign):\n",
        "    n, key = publick\n",
        "       \n",
        "    #sinh ra mã băm dựa trên chũ ký số \n",
        "    numberRepr = [pow(char, key, n) for char in received_sign]\n",
        "    mabam_h = [chr(pow(char, key, n)) for char in received_sign]\n",
        "\n",
        "    print(\"Biểu diễn số của mã băm được giải mã từ chữ ký số s được gửi tới: \")\n",
        "    print(numberRepr)\n",
        "    \n",
        "    return ''.join(mabam_h)\n",
        "  \n",
        "def verify(receivedHashed, receivedmessage):\n",
        "  ourHashed = hashFunction(receivedmessage)\n",
        "  print(\"Mã băm của tin nhắn nhận được: \", ourHashed)\n",
        "  if receivedHashed == ourHashed:\n",
        "      print(\"Xác thực thành công: \", )\n",
        "      print(receivedHashed, \" = \", ourHashed)\n",
        "  else:\n",
        "      \n",
        "      print(\"Xác thực thất bại: \")\n",
        "      print(receivedHashed, \" != \", ourHashed)"
      ],
      "execution_count": null,
      "outputs": []
    },
    {
      "cell_type": "code",
      "metadata": {
        "colab": {
          "base_uri": "https://localhost:8080/"
        },
        "id": "-6fKYAsWoUSa",
        "outputId": "bdbbe161-76f7-4917-a43a-4dd9f6a8de68"
      },
      "source": [
        "receivedmessage = 'Lớp Toán tin K64'\n",
        "received_sign = chukyso_s\n",
        "print(\"Tin nhắn nhận được là: \", receivedmessage)\n",
        "print(\"Chữ/ kí số nhận được là: \")\n",
        "print(received_sign)\n",
        "print()\n",
        "receivedHashed = decrypt(public, received_sign)\n",
        "print(\"Mã băm xong khi giải mã chữ ký số: \", receivedHashed)\n",
        "print()\n",
        "print(\"Bắt đầu xác thực . . .\")\n",
        "verify(receivedHashed, receivedmessage)"
      ],
      "execution_count": null,
      "outputs": [
        {
          "output_type": "stream",
          "text": [
            "Tin nhắn nhận được là:  Lớp Toán tin K64\n",
            "Chữ/ kí số nhận được là: \n",
            "[136, 181, 224, 358, 136, 136, 153, 174, 224, 96, 110, 224, 363, 181, 43, 81, 110, 16, 96, 110, 331, 331, 363, 43, 358, 288, 288, 136, 96, 96, 43, 136, 153, 181, 44, 136, 331, 358, 153, 331, 174, 43, 245, 358, 363, 224, 288, 16, 181, 43, 96, 136, 358, 288, 153, 358, 43, 153, 136, 43, 44, 181, 110, 153]\n",
            "\n",
            "Biểu diễn số của mã băm được giải mã từ chữ ký số s được gửi tới: \n",
            "[51, 99, 57, 52, 51, 51, 102, 98, 57, 48, 100, 57, 54, 99, 53, 55, 100, 50, 48, 100, 49, 49, 54, 53, 52, 101, 101, 51, 48, 48, 53, 51, 102, 99, 97, 51, 49, 52, 102, 49, 98, 53, 56, 52, 54, 57, 101, 50, 99, 53, 48, 51, 52, 101, 102, 52, 53, 102, 51, 53, 97, 99, 100, 102]\n",
            "Mã băm xong khi giải mã chữ ký số:  3c9433fb90d96c57d20d11654ee30053fca314f1b58469e2c5034ef45f35acdf\n",
            "\n",
            "Bắt đầu xác thực . . .\n",
            "Mã băm của tin nhắn nhận được:  276384310606a3b7aa7e82b0106732db22bad789e72b108de6c620639a9283d5\n",
            "Xác thực thất bại: \n",
            "3c9433fb90d96c57d20d11654ee30053fca314f1b58469e2c5034ef45f35acdf  !=  276384310606a3b7aa7e82b0106732db22bad789e72b108de6c620639a9283d5\n"
          ],
          "name": "stdout"
        }
      ]
    },
    {
      "cell_type": "code",
      "metadata": {
        "id": "fWGrv-7ytgSz"
      },
      "source": [
        ""
      ],
      "execution_count": null,
      "outputs": []
    }
  ]
}